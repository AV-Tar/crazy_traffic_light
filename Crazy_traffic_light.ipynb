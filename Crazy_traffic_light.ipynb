{
 "cells": [
  {
   "cell_type": "markdown",
   "id": "9948e105",
   "metadata": {},
   "source": [
    "# Нейронная сеть учится понимать сигналы светофора"
   ]
  },
  {
   "cell_type": "markdown",
   "id": "d6fd174e",
   "metadata": {},
   "source": [
    "Задача проста: у нас есть светофор, и мы хотим научить модель решать, можно ли продолжать движение на перекрестке в зависимости от того, какой сигнал светофора горит. "
   ]
  },
  {
   "cell_type": "code",
   "execution_count": 1,
   "id": "5c610257",
   "metadata": {},
   "outputs": [],
   "source": [
    "import numpy as np\n",
    "import matplotlib.pyplot as plt\n",
    "import pickle\n",
    "import pandas as pd"
   ]
  },
  {
   "cell_type": "markdown",
   "id": "71f271b0",
   "metadata": {},
   "source": [
    "## Представление данных"
   ]
  },
  {
   "cell_type": "markdown",
   "id": "92f17fa2",
   "metadata": {},
   "source": [
    "Начнём с представления сигналов светофора. Применим **One-Hot** кодирование для каждого сигнала. Всего у нас есть 6 вариантов сигналов светофора: 1 - зеленый, 2 - зеленый мигающий, 3 - желтый, 4 - желтый мигающий, 5 – красный, 6 - красный мигающий. Для каждого сигнала светофора есть метка: 1 (разрешено движение) или 0 (запрещено). Таким образом, если горит только Зеленый, то численно этот сигнал будет представлен так: [1, 0, 0, 0, 0, 0, 0]. Зеленый мигающий: [0, 1, 0, 0, 0, 0, 0].  Зеленый и желтый: [0, 0, 1, 0, 0, 1]."
   ]
  },
  {
   "cell_type": "code",
   "execution_count": 2,
   "id": "652ef9da",
   "metadata": {},
   "outputs": [],
   "source": [
    "# Данные: светофор (зеленый, желтый, красный) закодированы как One-Hot векторы\n",
    "X = np.array([\n",
    "    [1, 0, 0, 0, 0, 0],  # Зеленый\n",
    "    [0, 1, 0, 0, 0, 0],  # Зеленый мигающий\n",
    "    [0, 0, 1, 0, 0, 0],  # Желтый\n",
    "    [0, 0, 0, 1, 0, 0],  # Желтый мигающий\n",
    "    [0, 0, 0, 0, 1, 0],  # Красный\n",
    "    [0, 0, 0, 0, 0, 1],  # Красный мигающий\n",
    "    [0, 0, 1, 0, 1, 0],  # Красный и желтый\n",
    "])"
   ]
  },
  {
   "cell_type": "code",
   "execution_count": 3,
   "id": "c5c889ce",
   "metadata": {},
   "outputs": [],
   "source": [
    "# Метки: движение разрешено (1) или запрещено (0)\n",
    "y = np.array([\n",
    "    1,  # Зеленый: движение разрешено\n",
    "    1,  # Зеленый мигающий: движение разрешено\n",
    "    0,  # Желтый: движение запрещено\n",
    "    1,  # Желтый мигающий: движение разрешено\n",
    "    0,  # Красный: движение запрещено\n",
    "    0,  # Красный мигающий: движение запрещено\n",
    "    0   # Красный и желтый: движение запрещено\n",
    "])"
   ]
  },
  {
   "cell_type": "markdown",
   "id": "73f368de",
   "metadata": {},
   "source": [
    "## Определение архитектуры сети"
   ]
  },
  {
   "cell_type": "markdown",
   "id": "99fb5bb4",
   "metadata": {},
   "source": [
    "Создадим простую нейронную сеть с одним скрытым слоем. В этой сети будет 6 входных нейронов (по числу сигналов светофора), 8 нейронов в скрытом слое (их количество можно поменять) и 1 выходной нейрон, который скажет нам, разрешено ли движение.\n",
    "Опишем «вручную» функцию, которая обучает нейронную сеть **методом градиентного спуска**. В каждом цикле (эпохе) она выполняет прямой проход для расчета предсказаний, затем вычисляет ошибку между предсказанными и реальными значениями. После этого выполняется обратный проход для расчета градиентов, чтобы корректировать веса сети на основе ошибки. Веса обновляются с использованием производной функции активации и заданной скорости обучения.\n",
    "\n",
    "**Прямой проход** — это процесс, при котором данные последовательно передаются через сеть, начиная с входного слоя, затем через скрытый слой, и, наконец, к выходному. На выходе мы получаем предсказание.\n",
    "\n",
    "**Обратный проход** (или Backpropagation) — это ключевой процесс, который используется для обучения нейронной сети. Он заключается в корректировке весов на основе ошибки между реальным результатом и предсказанием сети."
   ]
  },
  {
   "cell_type": "code",
   "execution_count": 4,
   "id": "a9393149",
   "metadata": {},
   "outputs": [],
   "source": [
    "def train_model(epochs, X, y, weights_input_hidden, weights_hidden_output, learning_rate, activation_function, activation_derivative):\n",
    "    errors = []  # Список для хранения ошибок на каждой эпохе\n",
    "    \n",
    "    for epoch in range(epochs):\n",
    "        # Прямой проход\n",
    "        hidden_layer_input = np.dot(X, weights_input_hidden)\n",
    "        hidden_layer_output = activation_function(hidden_layer_input)\n",
    "\n",
    "        final_input = np.dot(hidden_layer_output, weights_hidden_output)\n",
    "        final_output = activation_function(final_input)\n",
    "\n",
    "        # Расчет ошибки\n",
    "        error = y.reshape(-1, 1) - final_output  # Приводим y к нужной форме\n",
    "\n",
    "        # Сохранение ошибки для визуализации\n",
    "        errors.append(np.mean(np.abs(error)))\n",
    "\n",
    "        # Обратный проход (Backpropagation)\n",
    "        d_output = error * activation_derivative(final_output)  # Ошибка на выходном слое\n",
    "        error_hidden_layer = d_output.dot(weights_hidden_output.T)  # Ошибка на скрытом слое\n",
    "        d_hidden_layer = error_hidden_layer * activation_derivative(hidden_layer_output)  # Градиенты скрытого слоя\n",
    "\n",
    "        # Обновление весов\n",
    "        weights_hidden_output += hidden_layer_output.T.dot(d_output) * learning_rate\n",
    "        weights_input_hidden += X.T.dot(d_hidden_layer) * learning_rate\n",
    "    \n",
    "    return weights_input_hidden, weights_hidden_output, errors"
   ]
  },
  {
   "cell_type": "markdown",
   "id": "8ba18ce2",
   "metadata": {},
   "source": [
    "Функция активации (например, сигмоида) преобразует входы сети, а её производная помогает понять, насколько быстро сеть должна учиться. Сигмоида преобразует значения в диапазон от 0 до 1. Эта функция хорошо подходит для задач, где результатом является вероятность."
   ]
  },
  {
   "cell_type": "code",
   "execution_count": 5,
   "id": "f05fb11a",
   "metadata": {},
   "outputs": [],
   "source": [
    "# Сигмоида для активации\n",
    "def sigmoid(x):\n",
    "    return 1 / (1 + np.exp(-x))\n",
    "\n",
    "# Производная сигмоиды для градиентного спуска\n",
    "def sigmoid_derivative(x):\n",
    "    return x * (1 - x)"
   ]
  },
  {
   "cell_type": "markdown",
   "id": "c3f1ed0a",
   "metadata": {},
   "source": [
    "## Инициализация весов"
   ]
  },
  {
   "cell_type": "markdown",
   "id": "6808cb82",
   "metadata": {},
   "source": [
    "Обучение сети начинается с инициализации весов случайными значениями. Если произошло чудо и веса, расставленные случайным образом, оказались наилучшие, то модели даже учиться не придется. Если веса уже почти оптимальны, то модель не будет значительно изменять их во время обучения, так как градиентный спуск не сможет внести существенных улучшений. Градиенты будут малы, и обновления весов будут минимальными, что приведет к быстрому завершению процесса обучения. Однако, это идеализированный сценарий, который редко встречается на практике, так как вероятность случайного нахождения оптимальных весов с самого начала крайне мала. Обычно инициализация весов используется для того, чтобы помочь модели начать обучение, а не для нахождения оптимального решения сразу."
   ]
  },
  {
   "cell_type": "code",
   "execution_count": 6,
   "id": "3c3769ec",
   "metadata": {},
   "outputs": [],
   "source": [
    "# Инициализация случайных весов вначале\n",
    "np.random.seed(2024)\n",
    "weights_input_hidden = np.random.rand(6, 8)  # Входной слой -> Скрытый слой (6 нейронов входа, 8 нейронов скрытого слоя)\n",
    "weights_hidden_output = np.random.rand(8, 1)  # Скрытый слой -> Выходной слой (8 нейронов скрытого слоя, 1 нейрон выхода)"
   ]
  },
  {
   "cell_type": "markdown",
   "id": "c43d0d6e",
   "metadata": {},
   "source": [
    "## Обучение модели"
   ]
  },
  {
   "cell_type": "markdown",
   "id": "6b0cad78",
   "metadata": {},
   "source": [
    "Теперь, когда есть функции для прямого и обратного прохода, можно приступить к обучению созданной сети. Установим начальную скорость обучения (learning_rate) и количество эпох (итераций обучения, epochs), чтобы сеть смогла постепенно улучшать свои прогнозы."
   ]
  },
  {
   "cell_type": "code",
   "execution_count": 7,
   "id": "2f2c7aac",
   "metadata": {},
   "outputs": [],
   "source": [
    "# Параметры обучения\n",
    "learning_rate = 0.1  # Скорость обучения\n",
    "epochs = 100  # Количество итераций обучения"
   ]
  },
  {
   "cell_type": "code",
   "execution_count": 8,
   "id": "8810c274",
   "metadata": {},
   "outputs": [],
   "source": [
    "# Обучение модели\n",
    "weights_input_hidden, weights_hidden_output, errors = train_model(\n",
    "    epochs,\n",
    "    X,\n",
    "    y,\n",
    "    weights_input_hidden,\n",
    "    weights_hidden_output,\n",
    "    learning_rate,\n",
    "    sigmoid,\n",
    "    sigmoid_derivative\n",
    ")"
   ]
  },
  {
   "cell_type": "markdown",
   "id": "9e5bc6d0",
   "metadata": {},
   "source": [
    "## Визуализация ошибок\n",
    "\n",
    "Для того чтобы оценить, как хорошо обучалась модель, можно построить график ошибок по эпохам. Это поможет нам понять, насколько эффективно сеть минимизировала ошибку в процессе обучения."
   ]
  },
  {
   "cell_type": "code",
   "execution_count": 9,
   "id": "b9cee679",
   "metadata": {},
   "outputs": [],
   "source": [
    "# Визуализация ошибок\n",
    "def train_plot(errors):\n",
    "    plt.figure(figsize=(10, 3))\n",
    "    plt.plot(errors)\n",
    "    plt.title(\"Ошибка модели по эпохам\")\n",
    "    plt.xlabel(\"Эпохи\")\n",
    "    plt.ylabel(\"Ошибка\")\n",
    "    plt.grid(True)\n",
    "    plt.show()"
   ]
  },
  {
   "cell_type": "code",
   "execution_count": 10,
   "id": "b4f0a069",
   "metadata": {},
   "outputs": [
    {
     "data": {
      "image/png": "[encoded data removed]",
      "text/plain": [
       "<Figure size 1000x300 with 1 Axes>"
      ]
     },
     "metadata": {},
     "output_type": "display_data"
    }
   ],
   "source": [
    "train_plot(errors) # Вызов функции построения графика"
   ]
  },
  {
   "cell_type": "markdown",
   "id": "8889cebb",
   "metadata": {},
   "source": [
    "## Тестирование модели\n",
    "\n",
    "Проверим, как созданная нейронная сеть работает на тех же данных, которые использовались для обучения. Протестируем ее, проведем прямой проход через сеть и посмотрим на предсказания."
   ]
  },
  {
   "cell_type": "code",
   "execution_count": 11,
   "id": "546526ac",
   "metadata": {},
   "outputs": [],
   "source": [
    "# Функция для получения предсказаний модели\n",
    "def predict(input_data, weights_input_hidden, weights_hidden_output):\n",
    "    hidden_layer_input = np.dot(input_data, weights_input_hidden)  # Прямой проход через скрытый слой\n",
    "    hidden_layer_output = sigmoid(hidden_layer_input)  # Активация скрытого слоя\n",
    "\n",
    "    final_input = np.dot(hidden_layer_output, weights_hidden_output)  # Прямой проход к выходу\n",
    "    final_output = sigmoid(final_input)  # Активация выходного слоя\n",
    "\n",
    "    return final_output"
   ]
  },
  {
   "cell_type": "markdown",
   "id": "a1766a58",
   "metadata": {},
   "source": [
    "Тестовые данные представлены так же, как и те, на которых модель училась, это просто для проверки. Поменяем их потом."
   ]
  },
  {
   "cell_type": "code",
   "execution_count": 12,
   "id": "2509d0d8",
   "metadata": {},
   "outputs": [],
   "source": [
    "# Прогнозы\n",
    "test_data = np.array([\n",
    "    [1, 0, 0, 0, 0, 0],  # Зеленый\n",
    "    [0, 1, 0, 0, 0, 0],  # Зеленый мигающий\n",
    "    [0, 0, 1, 0, 0, 0],  # Желтый\n",
    "    [0, 0, 0, 1, 0, 0],  # Желтый мигающий\n",
    "    [0, 0, 0, 0, 1, 0],  # Красный\n",
    "    [0, 0, 0, 0, 0, 1],  # Красный мигающий\n",
    "    [0, 0, 1, 0, 1, 0],  # Красный и желтый\n",
    "])"
   ]
  },
  {
   "cell_type": "code",
   "execution_count": 13,
   "id": "ecdf2efb",
   "metadata": {},
   "outputs": [],
   "source": [
    "predictions = predict(test_data, weights_input_hidden, weights_hidden_output)\n",
    "rounded_predictions = np.round(predictions)  # Округление предсказаний до 0 или 1"
   ]
  },
  {
   "cell_type": "markdown",
   "id": "48239ccd",
   "metadata": {},
   "source": [
    "Сформируем таблицу результатов для наглядности:"
   ]
  },
  {
   "cell_type": "code",
   "execution_count": 14,
   "id": "2d4799dd",
   "metadata": {},
   "outputs": [],
   "source": [
    "# Вывод предсказаний и реальных меток в виде таблицы\n",
    "df = pd.DataFrame({\n",
    "    \"Показания светофора (One-Hot)\": [str(row) for row in test_data],\n",
    "    \"Прогноз (вероятность)\": predictions.flatten(),\n",
    "    \"Результат модели (разрешено движение/запрещено)\": rounded_predictions.flatten(),\n",
    "    \"Правильный результат\": y\n",
    "})"
   ]
  },
  {
   "cell_type": "code",
   "execution_count": 15,
   "id": "b5ac13a4",
   "metadata": {
    "scrolled": true
   },
   "outputs": [
    {
     "data": {
      "text/html": [
       "<div>\n",
       "<style scoped>\n",
       "    .dataframe tbody tr th:only-of-type {\n",
       "        vertical-align: middle;\n",
       "    }\n",
       "\n",
       "    .dataframe tbody tr th {\n",
       "        vertical-align: top;\n",
       "    }\n",
       "\n",
       "    .dataframe thead th {\n",
       "        text-align: right;\n",
       "    }\n",
       "</style>\n",
       "<table border=\"1\" class=\"dataframe\">\n",
       "  <thead>\n",
       "    <tr style=\"text-align: right;\">\n",
       "      <th></th>\n",
       "      <th>Показания светофора (One-Hot)</th>\n",
       "      <th>Прогноз (вероятность)</th>\n",
       "      <th>Результат модели (разрешено движение/запрещено)</th>\n",
       "      <th>Правильный результат</th>\n",
       "    </tr>\n",
       "  </thead>\n",
       "  <tbody>\n",
       "    <tr>\n",
       "      <th>0</th>\n",
       "      <td>[1 0 0 0 0 0]</td>\n",
       "      <td>0.505300</td>\n",
       "      <td>1.0</td>\n",
       "      <td>1</td>\n",
       "    </tr>\n",
       "    <tr>\n",
       "      <th>1</th>\n",
       "      <td>[0 1 0 0 0 0]</td>\n",
       "      <td>0.533771</td>\n",
       "      <td>1.0</td>\n",
       "      <td>1</td>\n",
       "    </tr>\n",
       "    <tr>\n",
       "      <th>2</th>\n",
       "      <td>[0 0 1 0 0 0]</td>\n",
       "      <td>0.369547</td>\n",
       "      <td>0.0</td>\n",
       "      <td>0</td>\n",
       "    </tr>\n",
       "    <tr>\n",
       "      <th>3</th>\n",
       "      <td>[0 0 0 1 0 0]</td>\n",
       "      <td>0.492536</td>\n",
       "      <td>0.0</td>\n",
       "      <td>1</td>\n",
       "    </tr>\n",
       "    <tr>\n",
       "      <th>4</th>\n",
       "      <td>[0 0 0 0 1 0]</td>\n",
       "      <td>0.410145</td>\n",
       "      <td>0.0</td>\n",
       "      <td>0</td>\n",
       "    </tr>\n",
       "    <tr>\n",
       "      <th>5</th>\n",
       "      <td>[0 0 0 0 0 1]</td>\n",
       "      <td>0.385091</td>\n",
       "      <td>0.0</td>\n",
       "      <td>0</td>\n",
       "    </tr>\n",
       "    <tr>\n",
       "      <th>6</th>\n",
       "      <td>[0 0 1 0 1 0]</td>\n",
       "      <td>0.335325</td>\n",
       "      <td>0.0</td>\n",
       "      <td>0</td>\n",
       "    </tr>\n",
       "  </tbody>\n",
       "</table>\n",
       "</div>"
      ],
      "text/plain": [
       "  Показания светофора (One-Hot)  Прогноз (вероятность)  \\\n",
       "0                 [1 0 0 0 0 0]               0.505300   \n",
       "1                 [0 1 0 0 0 0]               0.533771   \n",
       "2                 [0 0 1 0 0 0]               0.369547   \n",
       "3                 [0 0 0 1 0 0]               0.492536   \n",
       "4                 [0 0 0 0 1 0]               0.410145   \n",
       "5                 [0 0 0 0 0 1]               0.385091   \n",
       "6                 [0 0 1 0 1 0]               0.335325   \n",
       "\n",
       "   Результат модели (разрешено движение/запрещено)  Правильный результат  \n",
       "0                                              1.0                     1  \n",
       "1                                              1.0                     1  \n",
       "2                                              0.0                     0  \n",
       "3                                              0.0                     1  \n",
       "4                                              0.0                     0  \n",
       "5                                              0.0                     0  \n",
       "6                                              0.0                     0  "
      ]
     },
     "execution_count": 15,
     "metadata": {},
     "output_type": "execute_result"
    }
   ],
   "source": [
    "df"
   ]
  },
  {
   "cell_type": "markdown",
   "id": "9747b353",
   "metadata": {},
   "source": [
    "## Оценка качества модели\n"
   ]
  },
  {
   "cell_type": "code",
   "execution_count": 16,
   "id": "e5c0e0e5",
   "metadata": {},
   "outputs": [],
   "source": [
    "# Прогнозы\n",
    "X_test = np.array([\n",
    "    [1, 0, 0, 0, 0, 0],  # Зеленый\n",
    "    [0, 1, 0, 0, 0, 0],  # Зеленый мигающий\n",
    "    [0, 0, 1, 0, 0, 0],  # Желтый\n",
    "    [0, 0, 0, 1, 0, 0],  # Желтый мигающий\n",
    "    [0, 0, 0, 0, 1, 0],  # Красный\n",
    "    [0, 0, 0, 0, 0, 1],  # Красный мигающий\n",
    "    [0, 0, 1, 0, 1, 0],  # Красный и желтый\n",
    "])"
   ]
  },
  {
   "cell_type": "code",
   "execution_count": 17,
   "id": "d1cbb8ac",
   "metadata": {},
   "outputs": [],
   "source": [
    "# Метки: движение разрешено (1) или запрещено (0)\n",
    "y_test = np.array([\n",
    "    1,  # Зеленый: движение разрешено\n",
    "    1,  # Зеленый мигающий: движение разрешено\n",
    "    0,  # Желтый: движение запрещено\n",
    "    1,  # Желтый мигающий: движение разрешено\n",
    "    0,  # Красный: движение запрещено\n",
    "    0,  # Красный мигающий: движение запрещено\n",
    "    0   # Красный и желтый: движение запрещено\n",
    "])"
   ]
  },
  {
   "cell_type": "code",
   "execution_count": 18,
   "id": "e16dadc8",
   "metadata": {},
   "outputs": [],
   "source": [
    "predictions = predict(X_test, weights_input_hidden, weights_hidden_output)\n",
    "rounded_predictions = np.round(predictions)  # Округление предсказаний до 0 или 1"
   ]
  },
  {
   "cell_type": "code",
   "execution_count": 19,
   "id": "2f586f38",
   "metadata": {},
   "outputs": [],
   "source": [
    "# Вывод предсказаний и реальных меток в виде таблицы\n",
    "df_test = pd.DataFrame({\n",
    "    \"Показания светофора (One-Hot)\": [str(row) for row in test_data],\n",
    "    \"Прогноз (вероятность)\": predictions.flatten(),\n",
    "    \"Результат модели (разрешено движение/запрещено)\": rounded_predictions.flatten(),\n",
    "    \"Правильный результат\": y_test.flatten()\n",
    "})"
   ]
  },
  {
   "cell_type": "code",
   "execution_count": 20,
   "id": "7e91022a",
   "metadata": {},
   "outputs": [
    {
     "data": {
      "text/html": [
       "<div>\n",
       "<style scoped>\n",
       "    .dataframe tbody tr th:only-of-type {\n",
       "        vertical-align: middle;\n",
       "    }\n",
       "\n",
       "    .dataframe tbody tr th {\n",
       "        vertical-align: top;\n",
       "    }\n",
       "\n",
       "    .dataframe thead th {\n",
       "        text-align: right;\n",
       "    }\n",
       "</style>\n",
       "<table border=\"1\" class=\"dataframe\">\n",
       "  <thead>\n",
       "    <tr style=\"text-align: right;\">\n",
       "      <th></th>\n",
       "      <th>Показания светофора (One-Hot)</th>\n",
       "      <th>Прогноз (вероятность)</th>\n",
       "      <th>Результат модели (разрешено движение/запрещено)</th>\n",
       "      <th>Правильный результат</th>\n",
       "    </tr>\n",
       "  </thead>\n",
       "  <tbody>\n",
       "    <tr>\n",
       "      <th>0</th>\n",
       "      <td>[1 0 0 0 0 0]</td>\n",
       "      <td>0.505300</td>\n",
       "      <td>1.0</td>\n",
       "      <td>1</td>\n",
       "    </tr>\n",
       "    <tr>\n",
       "      <th>1</th>\n",
       "      <td>[0 1 0 0 0 0]</td>\n",
       "      <td>0.533771</td>\n",
       "      <td>1.0</td>\n",
       "      <td>1</td>\n",
       "    </tr>\n",
       "    <tr>\n",
       "      <th>2</th>\n",
       "      <td>[0 0 1 0 0 0]</td>\n",
       "      <td>0.369547</td>\n",
       "      <td>0.0</td>\n",
       "      <td>0</td>\n",
       "    </tr>\n",
       "    <tr>\n",
       "      <th>3</th>\n",
       "      <td>[0 0 0 1 0 0]</td>\n",
       "      <td>0.492536</td>\n",
       "      <td>0.0</td>\n",
       "      <td>1</td>\n",
       "    </tr>\n",
       "    <tr>\n",
       "      <th>4</th>\n",
       "      <td>[0 0 0 0 1 0]</td>\n",
       "      <td>0.410145</td>\n",
       "      <td>0.0</td>\n",
       "      <td>0</td>\n",
       "    </tr>\n",
       "    <tr>\n",
       "      <th>5</th>\n",
       "      <td>[0 0 0 0 0 1]</td>\n",
       "      <td>0.385091</td>\n",
       "      <td>0.0</td>\n",
       "      <td>0</td>\n",
       "    </tr>\n",
       "    <tr>\n",
       "      <th>6</th>\n",
       "      <td>[0 0 1 0 1 0]</td>\n",
       "      <td>0.335325</td>\n",
       "      <td>0.0</td>\n",
       "      <td>0</td>\n",
       "    </tr>\n",
       "  </tbody>\n",
       "</table>\n",
       "</div>"
      ],
      "text/plain": [
       "  Показания светофора (One-Hot)  Прогноз (вероятность)  \\\n",
       "0                 [1 0 0 0 0 0]               0.505300   \n",
       "1                 [0 1 0 0 0 0]               0.533771   \n",
       "2                 [0 0 1 0 0 0]               0.369547   \n",
       "3                 [0 0 0 1 0 0]               0.492536   \n",
       "4                 [0 0 0 0 1 0]               0.410145   \n",
       "5                 [0 0 0 0 0 1]               0.385091   \n",
       "6                 [0 0 1 0 1 0]               0.335325   \n",
       "\n",
       "   Результат модели (разрешено движение/запрещено)  Правильный результат  \n",
       "0                                              1.0                     1  \n",
       "1                                              1.0                     1  \n",
       "2                                              0.0                     0  \n",
       "3                                              0.0                     1  \n",
       "4                                              0.0                     0  \n",
       "5                                              0.0                     0  \n",
       "6                                              0.0                     0  "
      ]
     },
     "execution_count": 20,
     "metadata": {},
     "output_type": "execute_result"
    }
   ],
   "source": [
    "df_test"
   ]
  },
  {
   "cell_type": "markdown",
   "id": "07e7e3ea",
   "metadata": {},
   "source": [
    "### Метрики качества модели\n",
    "\n",
    "Основные метрики для оценки качества модели в задачах классификации:\n",
    "- Accuracy (Точность) — доля правильных предсказаний модели от общего числа. Оценивает, насколько модель в целом верно предсказывает метки классов.\n",
    "- Recall (Полнота) — доля верно предсказанных положительных классов среди всех реальных положительных. Показывает, насколько хорошо модель находит все положительные примеры.\n",
    "- Precision (Точность предсказания) — доля верно предсказанных положительных классов среди всех предсказанных положительных. Оценивает точность предсказания положительных классов.\n",
    "- F1 Score — гармоническое среднее между Precision и Recall, даёт сбалансированную оценку между этими двумя метриками, особенно полезно при несбалансированных классах."
   ]
  },
  {
   "cell_type": "code",
   "execution_count": 21,
   "id": "88378c3a",
   "metadata": {},
   "outputs": [],
   "source": [
    "def accuracy(y_true, y_pred):\n",
    "    y_pred = np.round(y_pred)  # Округление предсказаний до 0 или 1\n",
    "    correct_predictions = np.sum(y_true == y_pred)\n",
    "    total_predictions = len(y_true)\n",
    "    return correct_predictions / total_predictions"
   ]
  },
  {
   "cell_type": "code",
   "execution_count": 22,
   "id": "33b91d81",
   "metadata": {},
   "outputs": [],
   "source": [
    "def recall(y_true, y_pred):\n",
    "    y_pred = np.round(y_pred)\n",
    "    true_positive = np.sum((y_true == 1) & (y_pred == 1))\n",
    "    false_negative = np.sum((y_true == 1) & (y_pred == 0))\n",
    "    return true_positive / (true_positive + false_negative)"
   ]
  },
  {
   "cell_type": "code",
   "execution_count": 23,
   "id": "5d7d5c5e",
   "metadata": {},
   "outputs": [],
   "source": [
    "def precision(y_true, y_pred):\n",
    "    y_pred = np.round(y_pred)\n",
    "    true_positive = np.sum((y_true == 1) & (y_pred == 1))\n",
    "    false_positive = np.sum((y_true == 0) & (y_pred == 1))\n",
    "    return true_positive / (true_positive + false_positive)"
   ]
  },
  {
   "cell_type": "code",
   "execution_count": 24,
   "id": "d1cfe328",
   "metadata": {},
   "outputs": [],
   "source": [
    "def f1__score(y_true, y_pred):\n",
    "    prec = precision(y_true, y_pred)\n",
    "    rec = recall(y_true, y_pred)\n",
    "    return 2 * (prec * rec) / (prec + rec)"
   ]
  },
  {
   "cell_type": "code",
   "execution_count": 25,
   "id": "4b7154e6",
   "metadata": {},
   "outputs": [
    {
     "name": "stdout",
     "output_type": "stream",
     "text": [
      "Accuracy: 0.857\n",
      "Recall: 0.667\n",
      "Precision: 1.000\n",
      "F1 Score: 0.800\n"
     ]
    }
   ],
   "source": [
    "acc = accuracy(y_test, predictions.flatten())\n",
    "print(f'Accuracy: {acc:.3f}')\n",
    "\n",
    "rec = recall(y_test, predictions.flatten())\n",
    "print(f'Recall: {rec:.3f}')\n",
    "\n",
    "prec = precision(y_test, predictions.flatten())\n",
    "print(f'Precision: {prec:.3f}')\n",
    "\n",
    "f1 = f1__score(y_test, predictions.flatten())\n",
    "print(f'F1 Score: {f1:.3f}')"
   ]
  },
  {
   "cell_type": "markdown",
   "id": "1070c1f9",
   "metadata": {},
   "source": [
    "## Дообучение модели"
   ]
  },
  {
   "cell_type": "markdown",
   "id": "7a47f2f1",
   "metadata": {},
   "source": [
    "После обучения модели ее обычно сохраняют для дальнейшего использования – предсказаний на новых данных, или дополнительного обучения."
   ]
  },
  {
   "cell_type": "code",
   "execution_count": 26,
   "id": "fb21d1a3",
   "metadata": {},
   "outputs": [],
   "source": [
    "# Функция сохранения модели на диск\n",
    "def save_model(weights_input_hidden, weights_hidden_output, filename=\"model.pkl\"):\n",
    "    with open(filename, 'wb') as f:\n",
    "        pickle.dump((weights_input_hidden, weights_hidden_output), f)\n",
    "    print(f\"Модель сохранена на диске в файл: {filename}\")"
   ]
  },
  {
   "cell_type": "code",
   "execution_count": 27,
   "id": "c1e7b713",
   "metadata": {},
   "outputs": [
    {
     "name": "stdout",
     "output_type": "stream",
     "text": [
      "Модель сохранена на диске в файл: model.pkl\n"
     ]
    }
   ],
   "source": [
    "# Вызов функции сохранения модели\n",
    "save_model(weights_input_hidden, weights_hidden_output, 'model.pkl')"
   ]
  },
  {
   "cell_type": "markdown",
   "id": "28ae95d3",
   "metadata": {},
   "source": [
    "Если модель недостаточно обучена и (или) ее нужно дообучить на новых данных, используется загрузка параметров модели. Опять-таки, есть стандартные методы из библиотек, но у нас будет своя функция load_model:"
   ]
  },
  {
   "cell_type": "code",
   "execution_count": 28,
   "id": "0b45f771",
   "metadata": {},
   "outputs": [],
   "source": [
    "# Функция загрузки модели\n",
    "def load_model(filename=\"model.pkl\"):\n",
    "    with open(filename, 'rb') as f:\n",
    "        weights_input_hidden, weights_hidden_output = pickle.load(f)\n",
    "    print(f\"Модель загружена из файла: {filename}\")\n",
    "    return weights_input_hidden, weights_hidden_output"
   ]
  },
  {
   "cell_type": "code",
   "execution_count": 29,
   "id": "50dff424",
   "metadata": {},
   "outputs": [
    {
     "name": "stdout",
     "output_type": "stream",
     "text": [
      "Модель загружена из файла: model.pkl\n"
     ]
    }
   ],
   "source": [
    "# Загрузка модели\n",
    "weights_input_hidden, weights_hidden_output = load_model('model.pkl')"
   ]
  },
  {
   "cell_type": "code",
   "execution_count": 30,
   "id": "1c034b1f",
   "metadata": {},
   "outputs": [],
   "source": [
    "# Продолжение обучения загруженной модели\n",
    "additional_epochs = 1000  # Количество дополнительных эпох"
   ]
  },
  {
   "cell_type": "code",
   "execution_count": 31,
   "id": "46052b66",
   "metadata": {},
   "outputs": [],
   "source": [
    "weights_input_hidden, weights_hidden_output, errors = train_model(\n",
    "    additional_epochs,\n",
    "    X,\n",
    "    y,\n",
    "    weights_input_hidden,\n",
    "    weights_hidden_output,\n",
    "    learning_rate,\n",
    "    sigmoid,\n",
    "    sigmoid_derivative\n",
    ")"
   ]
  },
  {
   "cell_type": "code",
   "execution_count": 32,
   "id": "18b6ba8a",
   "metadata": {},
   "outputs": [
    {
     "data": {
      "image/png": "[encoded data removed]",
      "text/plain": [
       "<Figure size 1000x300 with 1 Axes>"
      ]
     },
     "metadata": {},
     "output_type": "display_data"
    }
   ],
   "source": [
    "# Визуализация ошибок после дообучения\n",
    "train_plot(errors)"
   ]
  },
  {
   "cell_type": "code",
   "execution_count": 33,
   "id": "1db646b1",
   "metadata": {},
   "outputs": [
    {
     "name": "stdout",
     "output_type": "stream",
     "text": [
      "Модель сохранена на диске в файл: model_continued.pkl\n"
     ]
    }
   ],
   "source": [
    "# Сохранение модели после продолжения обучения\n",
    "save_model(weights_input_hidden, weights_hidden_output, \"model_continued.pkl\")"
   ]
  },
  {
   "cell_type": "code",
   "execution_count": 34,
   "id": "17359c54",
   "metadata": {},
   "outputs": [
    {
     "name": "stdout",
     "output_type": "stream",
     "text": [
      "Модель загружена из файла: model_continued.pkl\n"
     ]
    }
   ],
   "source": [
    "# Загрузка модели\n",
    "weights_input_hidden, weights_hidden_output = load_model(\"model_continued.pkl\")"
   ]
  },
  {
   "cell_type": "code",
   "execution_count": 35,
   "id": "ea794868",
   "metadata": {},
   "outputs": [],
   "source": [
    "# Продолжение обучения загруженной модели\n",
    "additional_epochs = 3000  # Количество дополнительных эпох"
   ]
  },
  {
   "cell_type": "code",
   "execution_count": 36,
   "id": "7d6de0ca",
   "metadata": {},
   "outputs": [],
   "source": [
    "weights_input_hidden, weights_hidden_output, errors = train_model(\n",
    "    additional_epochs,\n",
    "    X,\n",
    "    y,\n",
    "    weights_input_hidden,\n",
    "    weights_hidden_output,\n",
    "    learning_rate,\n",
    "    sigmoid,\n",
    "    sigmoid_derivative\n",
    ")"
   ]
  },
  {
   "cell_type": "code",
   "execution_count": 37,
   "id": "d96a7836",
   "metadata": {},
   "outputs": [
    {
     "data": {
      "image/png": "[encoded data removed]",
      "text/plain": [
       "<Figure size 1000x300 with 1 Axes>"
      ]
     },
     "metadata": {},
     "output_type": "display_data"
    }
   ],
   "source": [
    "# Визуализация ошибок после второго этапа дообучения\n",
    "train_plot(errors)"
   ]
  },
  {
   "cell_type": "code",
   "execution_count": 38,
   "id": "04ca2432",
   "metadata": {},
   "outputs": [
    {
     "name": "stdout",
     "output_type": "stream",
     "text": [
      "Модель сохранена на диске в файл: model_continued.pkl\n"
     ]
    }
   ],
   "source": [
    "# Сохранение модели после продолжения обучения\n",
    "save_model(weights_input_hidden, weights_hidden_output, \"model_continued.pkl\")"
   ]
  },
  {
   "cell_type": "code",
   "execution_count": 39,
   "id": "87a104c3",
   "metadata": {},
   "outputs": [],
   "source": [
    "predictions_1 = predict(X_test, weights_input_hidden, weights_hidden_output)"
   ]
  },
  {
   "cell_type": "code",
   "execution_count": 40,
   "id": "ab0f4c35",
   "metadata": {},
   "outputs": [
    {
     "name": "stdout",
     "output_type": "stream",
     "text": [
      "Accuracy: 1.000\n",
      "Recall: 1.000\n",
      "Precision: 1.000\n",
      "F1 Score: 1.000\n"
     ]
    }
   ],
   "source": [
    "acc = accuracy(y_test, predictions_1.flatten())\n",
    "print(f'Accuracy: {acc:.3f}')\n",
    "\n",
    "rec = recall(y_test, predictions_1.flatten())\n",
    "print(f'Recall: {rec:.3f}')\n",
    "\n",
    "prec = precision(y_test, predictions_1.flatten())\n",
    "print(f'Precision: {prec:.3f}')\n",
    "\n",
    "f1 = f1__score(y_test, predictions_1.flatten())\n",
    "print(f'F1 Score: {f1:.3f}')"
   ]
  },
  {
   "cell_type": "markdown",
   "id": "c6da77a7",
   "metadata": {},
   "source": [
    "# Увеличение количества нейронов"
   ]
  },
  {
   "cell_type": "markdown",
   "id": "54f4568d",
   "metadata": {},
   "source": [
    "Базовую модель нейронной сети уже есть, теперь попробуем ее улучшить. Увеличив количество нейронов, увеличивается её сложность, при этом можно повысить точность предсказаний. Увеличение числа нейронов в скрытом слое позволяет сети выявлять более сложные паттерны в данных.\n",
    "В нашей базовой модели было 8 нейронов в скрытом слое. В новой версии увеличили их число до 20.  Для этого достаточно изменить инициализацию слоев:"
   ]
  },
  {
   "cell_type": "code",
   "execution_count": 41,
   "id": "da444aeb",
   "metadata": {},
   "outputs": [],
   "source": [
    "# Инициализация случайных весов вначале\n",
    "np.random.seed(2024)\n",
    "weights_input_hidden = np.random.rand(6, 20)  # Входной слой -> Скрытый слой (6 нейронов входа, 20 нейронов скрытого слоя)\n",
    "weights_hidden_output = np.random.rand(20, 1)  # Скрытый слой -> Выходной слой (20 нейронов скрытого слоя, 1 нейрон выхода)"
   ]
  },
  {
   "cell_type": "markdown",
   "id": "a7547e52",
   "metadata": {},
   "source": [
    "Остальная часть кода остается без изменений. Вызываем в том же порядке функции train_model, train_plot, predict. Количество эпох в обучении зададим сразу 3000."
   ]
  },
  {
   "cell_type": "code",
   "execution_count": 42,
   "id": "4323e26d",
   "metadata": {},
   "outputs": [],
   "source": [
    "# Параметры обучения\n",
    "learning_rate = 0.1  # Скорость обучения\n",
    "epochs = 3000  # Количество итераций обучения"
   ]
  },
  {
   "cell_type": "code",
   "execution_count": 43,
   "id": "64edfb63",
   "metadata": {},
   "outputs": [],
   "source": [
    "# Обучение модели\n",
    "weights_input_hidden, weights_hidden_output, errors = train_model(\n",
    "    epochs,\n",
    "    X,\n",
    "    y,\n",
    "    weights_input_hidden,\n",
    "    weights_hidden_output,\n",
    "    learning_rate,\n",
    "    sigmoid,\n",
    "    sigmoid_derivative\n",
    ")"
   ]
  },
  {
   "cell_type": "code",
   "execution_count": 44,
   "id": "047fa315",
   "metadata": {},
   "outputs": [
    {
     "data": {
      "image/png": "[encoded data removed]",
      "text/plain": [
       "<Figure size 1000x300 with 1 Axes>"
      ]
     },
     "metadata": {},
     "output_type": "display_data"
    }
   ],
   "source": [
    "train_plot(errors)"
   ]
  },
  {
   "cell_type": "code",
   "execution_count": 45,
   "id": "ccd78def",
   "metadata": {},
   "outputs": [],
   "source": [
    "predictions_2 = predict(test_data, weights_input_hidden, weights_hidden_output)\n",
    "rounded_predictions_2 = np.round(predictions_2)  # Округление предсказаний до 0 или 1"
   ]
  },
  {
   "cell_type": "code",
   "execution_count": 46,
   "id": "70280490",
   "metadata": {},
   "outputs": [],
   "source": [
    "# Вывод предсказаний и реальных меток в виде таблицы\n",
    "df = pd.DataFrame({\n",
    "    \"Показания светофора (One-Hot)\": [str(row) for row in test_data],\n",
    "    \"Прогноз (вероятность)\": predictions_2.flatten(),\n",
    "    \"Результат модели (разрешено движение/запрещено)\": rounded_predictions_2.flatten(),\n",
    "    \"Правильный результат\": y\n",
    "})"
   ]
  },
  {
   "cell_type": "code",
   "execution_count": 47,
   "id": "ef3111cf",
   "metadata": {},
   "outputs": [
    {
     "data": {
      "text/html": [
       "<div>\n",
       "<style scoped>\n",
       "    .dataframe tbody tr th:only-of-type {\n",
       "        vertical-align: middle;\n",
       "    }\n",
       "\n",
       "    .dataframe tbody tr th {\n",
       "        vertical-align: top;\n",
       "    }\n",
       "\n",
       "    .dataframe thead th {\n",
       "        text-align: right;\n",
       "    }\n",
       "</style>\n",
       "<table border=\"1\" class=\"dataframe\">\n",
       "  <thead>\n",
       "    <tr style=\"text-align: right;\">\n",
       "      <th></th>\n",
       "      <th>Показания светофора (One-Hot)</th>\n",
       "      <th>Прогноз (вероятность)</th>\n",
       "      <th>Результат модели (разрешено движение/запрещено)</th>\n",
       "      <th>Правильный результат</th>\n",
       "    </tr>\n",
       "  </thead>\n",
       "  <tbody>\n",
       "    <tr>\n",
       "      <th>0</th>\n",
       "      <td>[1 0 0 0 0 0]</td>\n",
       "      <td>0.973552</td>\n",
       "      <td>1.0</td>\n",
       "      <td>1</td>\n",
       "    </tr>\n",
       "    <tr>\n",
       "      <th>1</th>\n",
       "      <td>[0 1 0 0 0 0]</td>\n",
       "      <td>0.972418</td>\n",
       "      <td>1.0</td>\n",
       "      <td>1</td>\n",
       "    </tr>\n",
       "    <tr>\n",
       "      <th>2</th>\n",
       "      <td>[0 0 1 0 0 0]</td>\n",
       "      <td>0.025165</td>\n",
       "      <td>0.0</td>\n",
       "      <td>0</td>\n",
       "    </tr>\n",
       "    <tr>\n",
       "      <th>3</th>\n",
       "      <td>[0 0 0 1 0 0]</td>\n",
       "      <td>0.971579</td>\n",
       "      <td>1.0</td>\n",
       "      <td>1</td>\n",
       "    </tr>\n",
       "    <tr>\n",
       "      <th>4</th>\n",
       "      <td>[0 0 0 0 1 0]</td>\n",
       "      <td>0.026695</td>\n",
       "      <td>0.0</td>\n",
       "      <td>0</td>\n",
       "    </tr>\n",
       "    <tr>\n",
       "      <th>5</th>\n",
       "      <td>[0 0 0 0 0 1]</td>\n",
       "      <td>0.030469</td>\n",
       "      <td>0.0</td>\n",
       "      <td>0</td>\n",
       "    </tr>\n",
       "    <tr>\n",
       "      <th>6</th>\n",
       "      <td>[0 0 1 0 1 0]</td>\n",
       "      <td>0.002797</td>\n",
       "      <td>0.0</td>\n",
       "      <td>0</td>\n",
       "    </tr>\n",
       "  </tbody>\n",
       "</table>\n",
       "</div>"
      ],
      "text/plain": [
       "  Показания светофора (One-Hot)  Прогноз (вероятность)  \\\n",
       "0                 [1 0 0 0 0 0]               0.973552   \n",
       "1                 [0 1 0 0 0 0]               0.972418   \n",
       "2                 [0 0 1 0 0 0]               0.025165   \n",
       "3                 [0 0 0 1 0 0]               0.971579   \n",
       "4                 [0 0 0 0 1 0]               0.026695   \n",
       "5                 [0 0 0 0 0 1]               0.030469   \n",
       "6                 [0 0 1 0 1 0]               0.002797   \n",
       "\n",
       "   Результат модели (разрешено движение/запрещено)  Правильный результат  \n",
       "0                                              1.0                     1  \n",
       "1                                              1.0                     1  \n",
       "2                                              0.0                     0  \n",
       "3                                              1.0                     1  \n",
       "4                                              0.0                     0  \n",
       "5                                              0.0                     0  \n",
       "6                                              0.0                     0  "
      ]
     },
     "execution_count": 47,
     "metadata": {},
     "output_type": "execute_result"
    }
   ],
   "source": [
    "df"
   ]
  },
  {
   "cell_type": "code",
   "execution_count": 48,
   "id": "4a3e4092",
   "metadata": {},
   "outputs": [
    {
     "name": "stdout",
     "output_type": "stream",
     "text": [
      "Accuracy: 1.000\n",
      "Recall: 1.000\n",
      "Precision: 1.000\n",
      "F1 Score: 1.000\n"
     ]
    }
   ],
   "source": [
    "acc = accuracy(y_test, predictions_2.flatten())\n",
    "print(f'Accuracy: {acc:.3f}')\n",
    "\n",
    "rec = recall(y_test, predictions_2.flatten())\n",
    "print(f'Recall: {rec:.3f}')\n",
    "\n",
    "prec = precision(y_test, predictions_2.flatten())\n",
    "print(f'Precision: {prec:.3f}')\n",
    "\n",
    "f1 = f1__score(y_test, predictions_2.flatten())\n",
    "print(f'F1 Score: {f1:.3f}')"
   ]
  },
  {
   "cell_type": "markdown",
   "id": "1617ba13",
   "metadata": {},
   "source": [
    "# Два скрытых слоя"
   ]
  },
  {
   "cell_type": "markdown",
   "id": "c04eaada",
   "metadata": {},
   "source": [
    "Иногда одного скрытого слоя недостаточно, особенно если задача требует более сложного анализа входных данных. Для улучшения модели можно добавить ещё один скрытый слой, который позволит нейронной сети выявлять более глубокие зависимости.\n",
    "\n",
    "**Как это работает**\n",
    "\n",
    "Сеть с двумя скрытыми слоями работает следующим образом: входные данные сначала проходят через первый скрытый слой, затем результаты передаются во второй скрытый слой, и только после этого — в выходной слой. Каждый слой использует функцию активации для нелинейного преобразования данных.\n",
    "Инициализация слоев будет выглядеть по-другому:"
   ]
  },
  {
   "cell_type": "code",
   "execution_count": 49,
   "id": "40cd0812",
   "metadata": {},
   "outputs": [],
   "source": [
    "# Инициализация случайных весов для двух скрытых слоев\n",
    "np.random.seed(2024)\n",
    "w_input_hidden1 = np.random.rand(6, 8)  # Входной слой -> Первый скрытый слой (6 нейронов входа, 8 нейронов в первом скрытом слое)\n",
    "w_hidden1_hidden2 = np.random.rand(8, 8)  # Первый скрытый слой -> Второй скрытый слой (8 нейронов первого скрытого слоя, 8 во втором)\n",
    "w_hidden2_output = np.random.rand(8, 1)  # Второй скрытый слой -> Выходной слой (8 нейронов во втором скрытом слое, 1 нейрон выхода)"
   ]
  },
  {
   "cell_type": "markdown",
   "id": "9cd907a0",
   "metadata": {},
   "source": [
    "Процесс обучения аналогичен предыдущей сети, но теперь добавляется больше шагов для прямого и обратного прохода через два скрытых слоя. После каждого шага сеть корректирует веса, используя метод обратного распространения ошибки.\n",
    "\n",
    "Функция для обучения с двумя скрытыми слоями будет выглядеть иначе:"
   ]
  },
  {
   "cell_type": "code",
   "execution_count": 50,
   "id": "09350a4b",
   "metadata": {},
   "outputs": [],
   "source": [
    "def train_model_2(\n",
    "    epochs, X, y,\n",
    "    w_input_hidden1, w_hidden1_hidden2, w_hidden2_output,\n",
    "    learning_rate, activation_function, activation_derivative):\n",
    "    \n",
    "    errors = []  # Список для хранения ошибок на каждой эпохе\n",
    "    \n",
    "    for epoch in range(epochs):\n",
    "        # Прямой проход через первый скрытый слой\n",
    "        hidden_layer1_input = np.dot(X, w_input_hidden1)\n",
    "        hidden_layer1_output = activation_function(hidden_layer1_input)\n",
    "        \n",
    "        # Прямой проход через второй скрытый слой\n",
    "        hidden_layer2_input = np.dot(hidden_layer1_output, w_hidden1_hidden2)\n",
    "        hidden_layer2_output = activation_function(hidden_layer2_input)\n",
    "\n",
    "        # Прямой проход через выходной слой\n",
    "        final_input = np.dot(hidden_layer2_output, w_hidden2_output)\n",
    "        final_output = activation_function(final_input)\n",
    "\n",
    "        # Расчет ошибки\n",
    "        error = y.reshape(-1, 1) - final_output  # Приводим y к нужной форме\n",
    "\n",
    "        # Сохранение ошибки для визуализации\n",
    "        errors.append(np.mean(np.abs(error)))\n",
    "\n",
    "        # Обратный проход (Backpropagation)\n",
    "        d_output = error * activation_derivative(final_output)  # Ошибка на выходном слое\n",
    "        error_hidden_layer2 = d_output.dot(w_hidden2_output.T)  # Ошибка на втором скрытом слое\n",
    "        d_hidden_layer2 = error_hidden_layer2 * activation_derivative(hidden_layer2_output)  # Градиенты второго скрытого слоя\n",
    "\n",
    "        error_hidden_layer1 = d_hidden_layer2.dot(w_hidden1_hidden2.T)  # Ошибка на первом скрытом слое\n",
    "        d_hidden_layer1 = error_hidden_layer1 * activation_derivative(hidden_layer1_output)  # Градиенты первого скрытого слоя\n",
    "\n",
    "        # Обновление весов\n",
    "        w_hidden2_output += hidden_layer2_output.T.dot(d_output) * learning_rate\n",
    "        w_hidden1_hidden2 += hidden_layer1_output.T.dot(d_hidden_layer2) * learning_rate\n",
    "        w_input_hidden1 += X.T.dot(d_hidden_layer1) * learning_rate\n",
    "    \n",
    "    return w_input_hidden1, w_hidden1_hidden2, w_hidden2_output, errors"
   ]
  },
  {
   "cell_type": "code",
   "execution_count": 51,
   "id": "e8399234",
   "metadata": {},
   "outputs": [],
   "source": [
    "# Параметры обучения\n",
    "learning_rate = 0.1  # Скорость обучения\n",
    "epochs = 2000  # Количество итераций обучения"
   ]
  },
  {
   "cell_type": "code",
   "execution_count": 52,
   "id": "4ffd2249",
   "metadata": {},
   "outputs": [],
   "source": [
    "# Обучение модели\n",
    "w_input_hidden1, w_hidden1_hidden2, w_hidden2_output, errors = train_model_2(\n",
    "    epochs,\n",
    "    X,\n",
    "    y,\n",
    "    w_input_hidden1,\n",
    "    w_hidden1_hidden2,\n",
    "    w_hidden2_output,\n",
    "    learning_rate,\n",
    "    sigmoid,\n",
    "    sigmoid_derivative\n",
    ")"
   ]
  },
  {
   "cell_type": "code",
   "execution_count": 53,
   "id": "dbd8e364",
   "metadata": {},
   "outputs": [
    {
     "data": {
      "image/png": "[encoded data removed]",
      "text/plain": [
       "<Figure size 1000x300 with 1 Axes>"
      ]
     },
     "metadata": {},
     "output_type": "display_data"
    }
   ],
   "source": [
    "# Визуализация ошибок\n",
    "train_plot(errors)\n",
    "plt.show()"
   ]
  },
  {
   "cell_type": "markdown",
   "id": "3439838e",
   "metadata": {},
   "source": [
    "Функция получения предиктов (предсказаний модели) тоже поменяется:"
   ]
  },
  {
   "cell_type": "code",
   "execution_count": 54,
   "id": "ca55a90a",
   "metadata": {},
   "outputs": [],
   "source": [
    "# Функция для тестирования после обучения\n",
    "def predict_2(input_data, w_input_hidden1, w_hidden1_hidden2, w_hidden2_output):\n",
    "    hidden_layer1_input = np.dot(input_data, w_input_hidden1)  # Прямой проход через первый скрытый слой\n",
    "    hidden_layer1_output = sigmoid(hidden_layer1_input)  # Активация первого скрытого слоя\n",
    "    \n",
    "    hidden_layer2_input = np.dot(hidden_layer1_output, w_hidden1_hidden2)  # Прямой проход через второй скрытый слой\n",
    "    hidden_layer2_output = sigmoid(hidden_layer2_input)  # Активация второго скрытого слоя\n",
    "\n",
    "    final_input = np.dot(hidden_layer2_output, w_hidden2_output)  # Прямой проход к выходу\n",
    "    final_output = sigmoid(final_input)  # Активация выходного слоя\n",
    "\n",
    "    return final_output"
   ]
  },
  {
   "cell_type": "code",
   "execution_count": 55,
   "id": "2d28fc81",
   "metadata": {},
   "outputs": [],
   "source": [
    "# Прогнозы\n",
    "predictions_3 = predict_2(X_test, w_input_hidden1, w_hidden1_hidden2, w_hidden2_output)"
   ]
  },
  {
   "cell_type": "code",
   "execution_count": 56,
   "id": "c97e6e5e",
   "metadata": {},
   "outputs": [],
   "source": [
    "rounded_predictions_3 = np.round(predictions_3)  # Округление предсказаний до 0 или 1"
   ]
  },
  {
   "cell_type": "code",
   "execution_count": 57,
   "id": "4c651048",
   "metadata": {},
   "outputs": [],
   "source": [
    "# Вывод предсказаний и реальных меток в виде таблицы\n",
    "df_3 = pd.DataFrame({\n",
    "    \"Показания светофора (One-Hot)\": [str(row) for row in test_data],\n",
    "    \"Прогноз (вероятность)\": predictions_3.flatten(),\n",
    "    \"Результат модели (разрешено движение/запрещено)\": rounded_predictions_3.flatten(),\n",
    "    \"Правильный результат\": y\n",
    "})"
   ]
  },
  {
   "cell_type": "code",
   "execution_count": 58,
   "id": "b21a1784",
   "metadata": {},
   "outputs": [
    {
     "data": {
      "text/html": [
       "<div>\n",
       "<style scoped>\n",
       "    .dataframe tbody tr th:only-of-type {\n",
       "        vertical-align: middle;\n",
       "    }\n",
       "\n",
       "    .dataframe tbody tr th {\n",
       "        vertical-align: top;\n",
       "    }\n",
       "\n",
       "    .dataframe thead th {\n",
       "        text-align: right;\n",
       "    }\n",
       "</style>\n",
       "<table border=\"1\" class=\"dataframe\">\n",
       "  <thead>\n",
       "    <tr style=\"text-align: right;\">\n",
       "      <th></th>\n",
       "      <th>Показания светофора (One-Hot)</th>\n",
       "      <th>Прогноз (вероятность)</th>\n",
       "      <th>Результат модели (разрешено движение/запрещено)</th>\n",
       "      <th>Правильный результат</th>\n",
       "    </tr>\n",
       "  </thead>\n",
       "  <tbody>\n",
       "    <tr>\n",
       "      <th>0</th>\n",
       "      <td>[1 0 0 0 0 0]</td>\n",
       "      <td>0.886115</td>\n",
       "      <td>1.0</td>\n",
       "      <td>1</td>\n",
       "    </tr>\n",
       "    <tr>\n",
       "      <th>1</th>\n",
       "      <td>[0 1 0 0 0 0]</td>\n",
       "      <td>0.884450</td>\n",
       "      <td>1.0</td>\n",
       "      <td>1</td>\n",
       "    </tr>\n",
       "    <tr>\n",
       "      <th>2</th>\n",
       "      <td>[0 0 1 0 0 0]</td>\n",
       "      <td>0.084160</td>\n",
       "      <td>0.0</td>\n",
       "      <td>0</td>\n",
       "    </tr>\n",
       "    <tr>\n",
       "      <th>3</th>\n",
       "      <td>[0 0 0 1 0 0]</td>\n",
       "      <td>0.891739</td>\n",
       "      <td>1.0</td>\n",
       "      <td>1</td>\n",
       "    </tr>\n",
       "    <tr>\n",
       "      <th>4</th>\n",
       "      <td>[0 0 0 0 1 0]</td>\n",
       "      <td>0.103038</td>\n",
       "      <td>0.0</td>\n",
       "      <td>0</td>\n",
       "    </tr>\n",
       "    <tr>\n",
       "      <th>5</th>\n",
       "      <td>[0 0 0 0 0 1]</td>\n",
       "      <td>0.113567</td>\n",
       "      <td>0.0</td>\n",
       "      <td>0</td>\n",
       "    </tr>\n",
       "    <tr>\n",
       "      <th>6</th>\n",
       "      <td>[0 0 1 0 1 0]</td>\n",
       "      <td>0.054189</td>\n",
       "      <td>0.0</td>\n",
       "      <td>0</td>\n",
       "    </tr>\n",
       "  </tbody>\n",
       "</table>\n",
       "</div>"
      ],
      "text/plain": [
       "  Показания светофора (One-Hot)  Прогноз (вероятность)  \\\n",
       "0                 [1 0 0 0 0 0]               0.886115   \n",
       "1                 [0 1 0 0 0 0]               0.884450   \n",
       "2                 [0 0 1 0 0 0]               0.084160   \n",
       "3                 [0 0 0 1 0 0]               0.891739   \n",
       "4                 [0 0 0 0 1 0]               0.103038   \n",
       "5                 [0 0 0 0 0 1]               0.113567   \n",
       "6                 [0 0 1 0 1 0]               0.054189   \n",
       "\n",
       "   Результат модели (разрешено движение/запрещено)  Правильный результат  \n",
       "0                                              1.0                     1  \n",
       "1                                              1.0                     1  \n",
       "2                                              0.0                     0  \n",
       "3                                              1.0                     1  \n",
       "4                                              0.0                     0  \n",
       "5                                              0.0                     0  \n",
       "6                                              0.0                     0  "
      ]
     },
     "execution_count": 58,
     "metadata": {},
     "output_type": "execute_result"
    }
   ],
   "source": [
    "df_3"
   ]
  },
  {
   "cell_type": "code",
   "execution_count": 59,
   "id": "e0765e47",
   "metadata": {},
   "outputs": [
    {
     "name": "stdout",
     "output_type": "stream",
     "text": [
      "Accuracy: 1.000\n",
      "Recall: 1.000\n",
      "Precision: 1.000\n",
      "F1 Score: 1.000\n"
     ]
    }
   ],
   "source": [
    "acc = accuracy(y_test, predictions_3.flatten())\n",
    "print(f'Accuracy: {acc:.3f}')\n",
    "\n",
    "rec = recall(y_test, predictions_3.flatten())\n",
    "print(f'Recall: {rec:.3f}')\n",
    "\n",
    "prec = precision(y_test, predictions_3.flatten())\n",
    "print(f'Precision: {prec:.3f}')\n",
    "\n",
    "f1 = f1__score(y_test, predictions_3.flatten())\n",
    "print(f'F1 Score: {f1:.3f}')"
   ]
  },
  {
   "cell_type": "markdown",
   "id": "8bfd4538",
   "metadata": {},
   "source": [
    "# Использование библиотеки Tensorflow"
   ]
  },
  {
   "cell_type": "markdown",
   "id": "9e378083",
   "metadata": {},
   "source": [
    "Для ускорения разработки и упрощения работы с нейронными сетями часто используют специализированные библиотеки, такие как **TensorFlow**. Она позволяет автоматизировать многие процессы создания и обучения модели, избавляя от необходимости вручную прописывать математику прямого и обратного прохода.\n",
    "\n",
    "**Создание модели с TensorFlow**\n",
    "\n",
    "С помощью TensorFlow легко создать модель. В данном примере используется последовательная модель (Sequential), где слои добавляются последовательно.\n",
    "\n",
    "Здесь добавляется скрытый слой с 16 нейронами и функцией активации ReLU, а также выходной слой с функцией активации - сигмоидой."
   ]
  },
  {
   "cell_type": "code",
   "execution_count": 60,
   "id": "f0444522",
   "metadata": {},
   "outputs": [],
   "source": [
    "from tensorflow.keras.models import Sequential\n",
    "from tensorflow.keras.layers import Dense"
   ]
  },
  {
   "cell_type": "code",
   "execution_count": 61,
   "id": "978a40f9",
   "metadata": {},
   "outputs": [],
   "source": [
    "# Создаем модель\n",
    "model = Sequential()\n",
    "# Добавляем слои\n",
    "model.add(Dense(16, input_dim=6, activation='relu'))  # Скрытый слой с 16 нейронами\n",
    "model.add(Dense(1, activation='sigmoid'))  # Выходной слой"
   ]
  },
  {
   "cell_type": "markdown",
   "id": "94be846f",
   "metadata": {},
   "source": [
    "Компиляция и обучение модели\n",
    "После создания структуры модели её необходимо скомпилировать. Будем использовать функцию потерь binary_crossentropy и оптимизатор Adam, который адаптивно подстраивает скорость обучения:"
   ]
  },
  {
   "cell_type": "code",
   "execution_count": 62,
   "id": "443e717c",
   "metadata": {},
   "outputs": [],
   "source": [
    "# Компилируем модель\n",
    "model.compile(loss='binary_crossentropy', optimizer='adam', metrics=['accuracy'])"
   ]
  },
  {
   "cell_type": "code",
   "execution_count": 63,
   "id": "213ef65c",
   "metadata": {},
   "outputs": [
    {
     "name": "stdout",
     "output_type": "stream",
     "text": [
      "Model: \"sequential\"\n",
      "_________________________________________________________________\n",
      " Layer (type)                Output Shape              Param #   \n",
      "=================================================================\n",
      " dense (Dense)               (None, 16)                112       \n",
      "                                                                 \n",
      " dense_1 (Dense)             (None, 1)                 17        \n",
      "                                                                 \n",
      "=================================================================\n",
      "Total params: 129\n",
      "Trainable params: 129\n",
      "Non-trainable params: 0\n",
      "_________________________________________________________________\n"
     ]
    }
   ],
   "source": [
    "# вывод информации по архитектуре созданной модели\n",
    "model.summary()"
   ]
  },
  {
   "cell_type": "markdown",
   "id": "7b90eec2",
   "metadata": {},
   "source": [
    "Модель обучается на данных, используя небольшие батчи (по 1 примеру за итерацию) и за 200 эпох:"
   ]
  },
  {
   "cell_type": "code",
   "execution_count": 64,
   "id": "83a419e5",
   "metadata": {},
   "outputs": [],
   "source": [
    "epochs = 50\n",
    "batch_size = 1"
   ]
  },
  {
   "cell_type": "code",
   "execution_count": 65,
   "id": "bf1ea746",
   "metadata": {},
   "outputs": [],
   "source": [
    "# Данные: светофор (зеленый, желтый, красный) закодированы как One-Hot векторы\n",
    "X = np.array([\n",
    "    [1, 0, 0, 0, 0, 0],  # Зеленый\n",
    "    [0, 1, 0, 0, 0, 0],  # Зеленый мигающий\n",
    "    [0, 0, 1, 0, 0, 0],  # Желтый\n",
    "    [0, 0, 0, 1, 0, 0],  # Желтый мигающий\n",
    "    [0, 0, 0, 0, 1, 0],  # Красный\n",
    "    [0, 0, 0, 0, 0, 1],  # Красный мигающий\n",
    "    [0, 0, 1, 0, 0, 1],  # Красный и желтый\n",
    "])"
   ]
  },
  {
   "cell_type": "code",
   "execution_count": 66,
   "id": "807e4c48",
   "metadata": {},
   "outputs": [],
   "source": [
    "# Метки: движение разрешено (1) или запрещено (0)\n",
    "y = np.array([\n",
    "    1,  # Зеленый: движение разрешено\n",
    "    1,  # Зеленый мигающий: движение разрешено\n",
    "    0,  # Желтый: движение запрещено\n",
    "    1,  # Желтый мигающий: движение разрешено\n",
    "    0,  # Красный: движение запрещено\n",
    "    0,  # Красный мигающий: движение запрещено\n",
    "    0   # Красный и желтый: движение запрещено\n",
    "])"
   ]
  },
  {
   "cell_type": "code",
   "execution_count": 67,
   "id": "d7ddfc87",
   "metadata": {},
   "outputs": [],
   "source": [
    "# Обучаем модель\n",
    "history = model.fit(X, y, epochs=epochs, batch_size=batch_size, verbose=0)"
   ]
  },
  {
   "cell_type": "code",
   "execution_count": 68,
   "id": "0fea63cc",
   "metadata": {},
   "outputs": [],
   "source": [
    "def plot_model_accuracy_loss(history):\n",
    "    '''\n",
    "    функция визуализации процесса обучения: точности Accuracy и ошибки Loss\n",
    "    '''\n",
    "    plt.figure(figsize=(12, 4))\n",
    "\n",
    "    # график точности\n",
    "    plt.subplot(1, 2, 1)\n",
    "    plt.plot(history.history['accuracy'], label='Accuracy')\n",
    "    plt.title('Model Accuracy')\n",
    "    plt.xlabel('Epochs')\n",
    "    plt.ylabel('Accuracy')\n",
    "    plt.legend()\n",
    "\n",
    "    # график ошибки\n",
    "    plt.subplot(1, 2, 2)\n",
    "    plt.plot(history.history['loss'], label='Loss')\n",
    "    plt.title('Model Loss')\n",
    "    plt.xlabel('Epochs')\n",
    "    plt.ylabel('Loss')\n",
    "    plt.legend()\n",
    "\n",
    "    plt.show()   "
   ]
  },
  {
   "cell_type": "code",
   "execution_count": 69,
   "id": "2ac196e5",
   "metadata": {},
   "outputs": [
    {
     "data": {
      "image/png": "[encoded data removed]",
      "text/plain": [
       "<Figure size 1200x400 with 2 Axes>"
      ]
     },
     "metadata": {},
     "output_type": "display_data"
    }
   ],
   "source": [
    "# визуализация процесса обучения (точности и ошибки)\n",
    "plot_model_accuracy_loss(history)"
   ]
  },
  {
   "cell_type": "code",
   "execution_count": 70,
   "id": "79ff11c7",
   "metadata": {},
   "outputs": [
    {
     "name": "stdout",
     "output_type": "stream",
     "text": [
      "1/1 [==============================] - 0s 41ms/step\n",
      "Accuracy: 1.000\n",
      "Recall: 1.000\n",
      "Precision: 1.000\n",
      "F1 Score: 1.000\n"
     ]
    }
   ],
   "source": [
    "from sklearn.metrics import accuracy_score, recall_score, precision_score, f1_score\n",
    "\n",
    "# Прогнозы на обучающих данных\n",
    "predictions_TF = model.predict(X)\n",
    "rounded_predictions_TF = np.round(predictions_TF)\n",
    "\n",
    "# Оценка метрик\n",
    "accuracy_TF = accuracy_score(y, rounded_predictions_TF)\n",
    "recall_TF = recall_score(y, rounded_predictions_TF)\n",
    "precision_TF = precision_score(y, rounded_predictions_TF)\n",
    "f1_TF = f1_score(y, rounded_predictions_TF)\n",
    "\n",
    "# Вывод результатов\n",
    "print(f'Accuracy: {accuracy_TF:.3f}')\n",
    "print(f'Recall: {recall_TF:.3f}')\n",
    "print(f'Precision: {precision_TF:.3f}')\n",
    "print(f'F1 Score: {f1_TF:.3f}')"
   ]
  },
  {
   "cell_type": "markdown",
   "id": "2abeaeaf",
   "metadata": {},
   "source": [
    "# Шокируем модель чокнутым светофором"
   ]
  },
  {
   "cell_type": "markdown",
   "id": "f3030a4f",
   "metadata": {},
   "source": [
    "Чтобы проверить устойчивость нашей модели, мы вводим не существующие комбинации сигналов светофора — такие, которые противоречат логике, например, одновременно горят зелёный и красный свет. Такие тесты помогают выявить, как модель справляется с некорректными или непредсказуемыми данными.\n",
    "\n",
    "**Нестандартные данные**\n",
    "\n",
    "Мы подаем на вход модели тестовые данные с нелогичными комбинациями сигналов:\n"
   ]
  },
  {
   "cell_type": "code",
   "execution_count": 71,
   "id": "ef47c9f1",
   "metadata": {},
   "outputs": [],
   "source": [
    "# Прогнозы\n",
    "X_test_data = np.array([\n",
    "    [1, 0, 0, 0, 1, 0],  # Зеленый и Красный\n",
    "    [0, 1, 0, 0, 0, 1],  # Зеленый мигающий и Красный мигающий\n",
    "    [1, 0, 1, 0, 1, 0],  # Зеленый, Желтый и Красный\n",
    "    [0, 1, 0, 1, 0, 1],  # Желтый мигающий, Зеленый мигающий и Красный мигающий\n",
    "    [0, 0, 0, 0, 1, 0],  # Красный\n",
    "    [1, 0, 0, 0, 0, 0],  # Зеленый\n",
    "    [0, 0, 0, 0, 0, 0]   # Ничего не горит\n",
    "])"
   ]
  },
  {
   "cell_type": "code",
   "execution_count": 72,
   "id": "5da654e0",
   "metadata": {},
   "outputs": [],
   "source": [
    "# метки\n",
    "y_test_data = np.array([\n",
    "    [0],  # Зеленый и Красный: запрещено\n",
    "    [0],  # Зеленый мигающий и Красный мигающий: запрещено\n",
    "    [0],  # Зеленый, Желтый и Красный: запрещено\n",
    "    [1],  # Желтый мигающий, Зеленый мигающий и Красный мигающий: запрещено\n",
    "    [0],  # Красный: запрещено\n",
    "    [1],  # Зеленый: разрешено\n",
    "    [1]   # Ничего не горит: разрешено\n",
    "])"
   ]
  },
  {
   "cell_type": "code",
   "execution_count": 73,
   "id": "448a7304",
   "metadata": {},
   "outputs": [
    {
     "name": "stdout",
     "output_type": "stream",
     "text": [
      "Модель загружена из файла: model_continued.pkl\n"
     ]
    }
   ],
   "source": [
    "# Загрузка модели\n",
    "weights_input_hidden, weights_hidden_output = load_model(\"model_continued.pkl\")"
   ]
  },
  {
   "cell_type": "code",
   "execution_count": 74,
   "id": "b569802c",
   "metadata": {},
   "outputs": [],
   "source": [
    "predictions_4 = predict(X_test_data, weights_input_hidden, weights_hidden_output)\n",
    "rounded_predictions_4 = np.round(predictions_4)  # Округление предсказаний до 0 или 1"
   ]
  },
  {
   "cell_type": "code",
   "execution_count": 75,
   "id": "f7052e60",
   "metadata": {},
   "outputs": [
    {
     "data": {
      "text/plain": [
       "array([[0.],\n",
       "       [0.],\n",
       "       [0.],\n",
       "       [1.],\n",
       "       [0.],\n",
       "       [1.],\n",
       "       [1.]])"
      ]
     },
     "execution_count": 75,
     "metadata": {},
     "output_type": "execute_result"
    }
   ],
   "source": [
    "rounded_predictions_4"
   ]
  },
  {
   "cell_type": "code",
   "execution_count": 76,
   "id": "1acca2f6",
   "metadata": {},
   "outputs": [],
   "source": [
    "# Вывод предсказаний и реальных меток в виде таблицы\n",
    "df = pd.DataFrame({\n",
    "    \"Показания светофора (One-Hot)\": [str(row) for row in test_data],\n",
    "    \"Прогноз (вероятность)\": predictions_4.flatten(),\n",
    "    \"Результат модели (разрешено движение/запрещено)\": rounded_predictions_4.flatten(),\n",
    "    \"Правильный результат\": y_test_data.flatten()\n",
    "})"
   ]
  },
  {
   "cell_type": "code",
   "execution_count": 77,
   "id": "a13245bf",
   "metadata": {},
   "outputs": [
    {
     "data": {
      "text/html": [
       "<div>\n",
       "<style scoped>\n",
       "    .dataframe tbody tr th:only-of-type {\n",
       "        vertical-align: middle;\n",
       "    }\n",
       "\n",
       "    .dataframe tbody tr th {\n",
       "        vertical-align: top;\n",
       "    }\n",
       "\n",
       "    .dataframe thead th {\n",
       "        text-align: right;\n",
       "    }\n",
       "</style>\n",
       "<table border=\"1\" class=\"dataframe\">\n",
       "  <thead>\n",
       "    <tr style=\"text-align: right;\">\n",
       "      <th></th>\n",
       "      <th>Показания светофора (One-Hot)</th>\n",
       "      <th>Прогноз (вероятность)</th>\n",
       "      <th>Результат модели (разрешено движение/запрещено)</th>\n",
       "      <th>Правильный результат</th>\n",
       "    </tr>\n",
       "  </thead>\n",
       "  <tbody>\n",
       "    <tr>\n",
       "      <th>0</th>\n",
       "      <td>[1 0 0 0 0 0]</td>\n",
       "      <td>0.434168</td>\n",
       "      <td>0.0</td>\n",
       "      <td>0</td>\n",
       "    </tr>\n",
       "    <tr>\n",
       "      <th>1</th>\n",
       "      <td>[0 1 0 0 0 0]</td>\n",
       "      <td>0.477584</td>\n",
       "      <td>0.0</td>\n",
       "      <td>0</td>\n",
       "    </tr>\n",
       "    <tr>\n",
       "      <th>2</th>\n",
       "      <td>[0 0 1 0 0 0]</td>\n",
       "      <td>0.019496</td>\n",
       "      <td>0.0</td>\n",
       "      <td>0</td>\n",
       "    </tr>\n",
       "    <tr>\n",
       "      <th>3</th>\n",
       "      <td>[0 0 0 1 0 0]</td>\n",
       "      <td>0.949565</td>\n",
       "      <td>1.0</td>\n",
       "      <td>1</td>\n",
       "    </tr>\n",
       "    <tr>\n",
       "      <th>4</th>\n",
       "      <td>[0 0 0 0 1 0]</td>\n",
       "      <td>0.023355</td>\n",
       "      <td>0.0</td>\n",
       "      <td>0</td>\n",
       "    </tr>\n",
       "    <tr>\n",
       "      <th>5</th>\n",
       "      <td>[0 0 0 0 0 1]</td>\n",
       "      <td>0.976843</td>\n",
       "      <td>1.0</td>\n",
       "      <td>1</td>\n",
       "    </tr>\n",
       "    <tr>\n",
       "      <th>6</th>\n",
       "      <td>[0 0 1 0 1 0]</td>\n",
       "      <td>0.573090</td>\n",
       "      <td>1.0</td>\n",
       "      <td>1</td>\n",
       "    </tr>\n",
       "  </tbody>\n",
       "</table>\n",
       "</div>"
      ],
      "text/plain": [
       "  Показания светофора (One-Hot)  Прогноз (вероятность)  \\\n",
       "0                 [1 0 0 0 0 0]               0.434168   \n",
       "1                 [0 1 0 0 0 0]               0.477584   \n",
       "2                 [0 0 1 0 0 0]               0.019496   \n",
       "3                 [0 0 0 1 0 0]               0.949565   \n",
       "4                 [0 0 0 0 1 0]               0.023355   \n",
       "5                 [0 0 0 0 0 1]               0.976843   \n",
       "6                 [0 0 1 0 1 0]               0.573090   \n",
       "\n",
       "   Результат модели (разрешено движение/запрещено)  Правильный результат  \n",
       "0                                              0.0                     0  \n",
       "1                                              0.0                     0  \n",
       "2                                              0.0                     0  \n",
       "3                                              1.0                     1  \n",
       "4                                              0.0                     0  \n",
       "5                                              1.0                     1  \n",
       "6                                              1.0                     1  "
      ]
     },
     "execution_count": 77,
     "metadata": {},
     "output_type": "execute_result"
    }
   ],
   "source": [
    "df"
   ]
  },
  {
   "cell_type": "code",
   "execution_count": 78,
   "id": "9d146a35",
   "metadata": {},
   "outputs": [
    {
     "name": "stdout",
     "output_type": "stream",
     "text": [
      "Accuracy: 1.000\n",
      "Recall: 1.000\n",
      "Precision: 1.000\n",
      "F1 Score: 1.000\n"
     ]
    }
   ],
   "source": [
    "acc = accuracy(y_test_data, predictions_4)\n",
    "print(f'Accuracy: {acc:.3f}')\n",
    "\n",
    "rec = recall(y_test_data, predictions_4)\n",
    "print(f'Recall: {rec:.3f}')\n",
    "\n",
    "prec = precision(y_test_data, predictions_4)\n",
    "print(f'Precision: {prec:.3f}')\n",
    "\n",
    "f1 = f1__score(y_test_data, predictions_4)\n",
    "print(f'F1 Score: {f1:.3f}')"
   ]
  },
  {
   "cell_type": "markdown",
   "id": "32b94aed",
   "metadata": {},
   "source": [
    "**Оценка качества модели**\n",
    "\n",
    "Модель хорошо распознает \"чокнутые\" сигналы светофора, особенно в предсказаниях, где движение разрешено. Однако, её способность не пропускать положительные сигналы могла бы быть выше. Метрики показывают, что модель может столкнуться с трудностями при обработке необычных сигналов светофора, но всё ещё делает разумные предсказания в большинстве случаев.\n"
   ]
  },
  {
   "cell_type": "code",
   "execution_count": null,
   "id": "4e9c64b0",
   "metadata": {},
   "outputs": [],
   "source": []
  }
 ],
 "metadata": {
  "kernelspec": {
   "display_name": "Python 3 (ipykernel)",
   "language": "python",
   "name": "python3"
  },
  "language_info": {
   "codemirror_mode": {
    "name": "ipython",
    "version": 3
   },
   "file_extension": ".py",
   "mimetype": "text/x-python",
   "name": "python",
   "nbconvert_exporter": "python",
   "pygments_lexer": "ipython3",
   "version": "3.9.19"
  },
  "toc": {
   "base_numbering": 1,
   "nav_menu": {},
   "number_sections": true,
   "sideBar": true,
   "skip_h1_title": false,
   "title_cell": "Table of Contents",
   "title_sidebar": "Contents",
   "toc_cell": false,
   "toc_position": {
    "height": "803.2px",
    "left": "64px",
    "top": "110.21px",
    "width": "258.04px"
   },
   "toc_section_display": true,
   "toc_window_display": true
  },
  "varInspector": {
   "cols": {
    "lenName": 16,
    "lenType": 16,
    "lenVar": 40
   },
   "kernels_config": {
    "python": {
     "delete_cmd_postfix": "",
     "delete_cmd_prefix": "del ",
     "library": "var_list.py",
     "varRefreshCmd": "print(var_dic_list())"
    },
    "r": {
     "delete_cmd_postfix": ") ",
     "delete_cmd_prefix": "rm(",
     "library": "var_list.r",
     "varRefreshCmd": "cat(var_dic_list()) "
    }
   },
   "types_to_exclude": [
    "module",
    "function",
    "builtin_function_or_method",
    "instance",
    "_Feature"
   ],
   "window_display": false
  }
 },
 "nbformat": 4,
 "nbformat_minor": 5
}
